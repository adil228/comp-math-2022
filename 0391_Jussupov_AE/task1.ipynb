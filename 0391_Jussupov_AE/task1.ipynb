{
 "cells": [
  {
   "cell_type": "markdown",
   "metadata": {},
   "source": [
    "# Практическая работа №1: Исследование алгоритмов формирования аддитивных цепочек\n",
    "\n",
    "Выполнил студент гр. 0391 Джусупов Адиль, вариант 55."
   ]
  },
  {
   "cell_type": "markdown",
   "metadata": {},
   "source": [
    "## Цель работы\n",
    "\n",
    "Сформировать представления о аддитивных цепочках, выработать умение составлять и применять алгоритмы для нахождения минимальных аддитивных цепочек для заданного числа, привить навык использования систем компьютерной математики для реализации алгоритмов."
   ]
  },
  {
   "cell_type": "markdown",
   "metadata": {},
   "source": [
    "## Основные теоретические положения\n",
    "\n",
    "Аддитивной цепочкой для $ n \\in ℕ $ называется последовательность натуральных чисел\n",
    "$$ 1 = a_0, a_1, ..., a_r = n, $$\n",
    "где каждый элемент последователньости равен сумме каких-то двух предыдущих:\n",
    "$$ a_i = a_j + a_k, \\quad k \\le j \\le i, \\quad i = 1, 2, ..., r $$\n",
    "\n",
    "$l(n) = r$ - наименьшая длина аддитивной цепочки для $ n \\in ℕ $.\n",
    "\n",
    "Для метода наименьших множителей: $ \\quad l(mn) \\le l(m) + l(n) $\n",
    "\n",
    "Для m-арного метода: $ \\quad l(n) \\le m - 2 + (k + 1)t \\quad [m = 2^k, n = \\sum_{j = 0}^t d_j m^{t-j}] $\n",
    "\n",
    "Для SX-метода: $ \\quad l(n) \\le \\lambda (n) + \\nu (n) - 1 $\n",
    "\n",
    "\n",
    "### Свойства аддитивных цепочек:\n",
    "* Полагается строгое возрастание элементов цепочки:\n",
    "$ 1 = a_0 < a_1 < a_2 < ... < a_n = n $\n",
    "* Одинаковые числа в цепочке можно опустить\n",
    "* Пара $ (j, k), 0 \\le k \\le j < i $ называется шагом $i$\n",
    "* Если $\\exists$ более чем 1 пара $ (j, k) $, полагаем $ max \\hspace{0.2cm} j $\n",
    "\n",
    "### Виды шагов:\n",
    "* удвоение: $ j = k = i - 1 $\n",
    "* звёздный шаг: $ j = i - 1 $ (линейный шаг)\n",
    "* малый шаг: $ \\lambda (a_i) = \\lambda (a_i - 1) $, где $ \\lambda (n) = \\lfloor lb(n) \\rfloor$\n",
    "\n",
    "### Свойства видов шагов:\n",
    "* шаг 1 - всегда удвоение\n",
    "* удвоение - звёздный шаг, но никогда не малый\n",
    "* если $i$-ый шаг не малый, то $(i+1)$-ый шаг либо малый, либо звёздный, либо оба\n",
    "* за удвоением всегда следует звёздный шаг\n",
    "* если $(i+1)$-ый шаг не звёздный и не малый, то $i$-ый шаг должен быть малым\n",
    "\n",
    "### Теорема:\n",
    "\n",
    "Если аддитивная цепочка содержит $d$ и $f = r - d$ неудвоений, то $n \\le 2^{d-1} F_{f+3}$, где $F_j$ - число Фиббоначи\n",
    "\n",
    "### Следствие:\n",
    "\n",
    "Если аддитивная цепочка содержит $f$ удвоений и $S$ малых шагов, то\n",
    "\n",
    "${S \\le f \\le} {S \\over {1 - lb(\\varphi)}}$, где $\\varphi = {{\\sqrt{5} + 1} \\over 2} $ - золотое сечение\n",
    "\n",
    "### Алгоритм Брауэра:\n",
    "\n",
    "Для $n \\in ℕ$ при заданном $k \\in ℕ$ можно построить цепочку Брауэра с помощью рекуррентной формулы:\n",
    "\n",
    "$$ B_k (n) =\n",
    "\\begin{cases}\n",
    "1, 2, 3, ..., 2^k - 1, \\quad n < 2^k \\\\\n",
    "B_k (q), 2q, 4q, ..., 2^k q, n, \\quad n \\ge 2^k\n",
    "\\end{cases} \\\\\n",
    "q = \\lfloor {n \\over 2^k} \\rfloor\n",
    "$$\n",
    "\n",
    "Данная цепочка имеет длину\n",
    "$$l_B (n) = j(k + 1) + 2^k - 2,$$\n",
    "при условии что $jk \\le \\lambda (n) \\le (j+1)k$\n",
    "\n",
    "Длина будет минимализирована для больших $n$, если положить $k = \\lambda \\lambda (n) - 2 \\lambda \\lambda \\lambda (n)$\n",
    "\n",
    "**Ход алгоритма:**\n",
    "\n",
    "* Задаётся некий параметр $k$ для $n$.\n",
    "Выполняется вычисление вспомогательных чисел:\n",
    "$$\n",
    "d = 2^k, \\hspace{0.2cm} q_1 = [ {n \\over d} ], \\hspace{0.2cm} r_1 = n \\hspace{0.2cm} mod \\hspace{0.2cm} d => n = q_1 d + r_1 \\quad (0 \\le r_1 < d) \\\\\n",
    "q_2 = [ {q_1 \\over d} ], \\hspace{0.2cm} r_2 = q_1 \\hspace{0.2cm} mod \\hspace{0.2cm} d => q_1 = q_2 d + r_2 \\quad (0 \\le r_2 < d)\n",
    "$$\n",
    "* Данная процедура продолжается, пока не появится $q_s < d,$ следовательно $q_{s-1} = q_s d + r_s$\n",
    "* Таким образом, n имеет вид\n",
    "$$ n = 2^k q_1 + r_1 = 2^k (2^k q_2 + r_2) + r_1 = ...\\\\\n",
    "... = 2^k (2^k (... (2^k q_s + r_s ) ... ) + r_2 ) + r_1 . $$\n",
    "\n",
    "$$B_n (n): 1, 2, 3, ..., 2^k - 1, \\\\\n",
    "2q_s, 4q_s, 8q_s, ..., 2^k q_s, 2^k q_s + r_s, \\\\\n",
    "2q_{s-1}, 4q_{s-1}, 8q_{s-1}, ..., 2^k q_{s-1}, 2^k q_{s-1} + r_{s-1}, \\\\\n",
    "..., \\\\\n",
    "..., 2^k q_1, 2^k q_1 + r_1 = n.$$\n",
    "\n",
    "### Алгоритм Яо:\n",
    "\n",
    "* Обладает такой же вычислительной мощностью, что и алгоритм Брауэра\n",
    "* Начало похоже: $k \\ge 2$, $n$ раскладывается в $2^k$-ой системе счисления:\n",
    "$$ n = \\sum_{i = 0}^j a_i 2^{ik} , a_j \\ne 0 $$\n",
    "* Введём функцию d:\n",
    "$$ d(z) = \\sum_{i: a_i = z} 2^{ik} $$\n",
    "\n",
    "**Ход алгоритма:**\n",
    "\n",
    "* Базовая последовательность: $1, 2, 4, ..., 2^{\\lambda(n)}$\n",
    "* Вычисление значений $d(z)$ для всех $z \\in \\{ 1, 2, ..., 2^k - 1\\}, \\quad d(z) \\ne 0$\n",
    "* Вычисление $zd(z)$ для всех $z$\n",
    "* n раскладывается в виде\n",
    "$$ n = \\sum_{z = 1}^{2^k - 1} zd(z) $$"
   ]
  },
  {
   "cell_type": "markdown",
   "metadata": {},
   "source": [
    "## Постановка задачи\n",
    "\n",
    "Реализовать точные и приближённые алгоритмы нахождения минимальных аддитивных цепочек с использованием системы компьютерной математики SageMath, провести анализ алгоритмов. Полученные результаты содержательно проинтерпретировать."
   ]
  },
  {
   "cell_type": "markdown",
   "metadata": {},
   "source": [
    "## Выполнение работы\n",
    "\n",
    "1. Вручную (т.е. не реализовывая алгоритм на Sage) построить последовательность вычислений бинарным методом и методом множителей для $x^n$ для 2-3 значений $n$ ($n \\ge 30$). Сравнить количество операций для каждого метода, сделать выводы.\n",
    "\n",
    "**n = 65:**<br>\n",
    "Двоичный метод:<br>\n",
    "\n",
    "1) Переводим в 2 СС: $ 65_{10} = 1000001_{2} $.\n",
    "\n",
    "2) Тогда получаем \"SSSSSSX\".\n",
    "\n",
    "3) Окончательно: $ x, x^2, x^4, x^8, x^{16}, x^{32}, x^{64}, x^{65} $, $ I(n) = 7 $.\n",
    "\n",
    "Метод множителей:<br>\n",
    "\n",
    "$$ 65 = pq = 2 \\cdot 40 $$\n",
    "$$ y = x^2\\\\\n",
    "   y^{40} = (y^8)^5 = (((y^2)^2)^2)^5 = ((((y^2)^2)^2)^2)^2 \\cdot (((y^2)^2)^2)\n",
    "$$\n",
    "   \n",
    "**n = 126:**<br>\n",
    "Двоичный метод:<br>\n",
    "\n",
    "1) Переводим в 2 СС: $ 126_{10} = 1111110_{2} $.\n",
    "\n",
    "2) Тогда получаем \"SXSXSXSXSXS\".\n",
    "\n",
    "3) Окончательно: $ x, x^2, x^3, x^6, x^7, x^{14}, x^{15}, x^{30}, x^{31}, x^{62}, x^{63}, x^{126} $, $ I(n) = 11 $.\n",
    "\n",
    "Метод множителей:<br>\n",
    "\n",
    "$$ 126 = pq = 2 \\cdot 63 $$\n",
    "$$ y = x^2\\\n",
    "   y^{63} = y^{62} \\cdot y = (y^2)^{31} \\cdot y \\\\\n",
    "   z^{31} = z^{30} \\cdot z = (z^5)^6 \\cdot z = ((z^2)^2 \\cdot z)^6 \\cdot z = (((z^2)^2 \\cdot z) ^ 2 \\cdot ((z^2)^2 \\cdot z)) ^ 2 \\cdot z\\\\\n",
    "   y^{63} = y^{62} \\cdot y = (y^2)^{31} \\cdot y = ((((y^2)^2 \\cdot y) ^ 2 \\cdot ((y^2)^2 \\cdot y)) ^ 2 \\cdot y) ^ 2 \\cdot y\\\\\n",
    "   x^2 = (((((x^2)^2 \\cdot x) ^ 2 \\cdot ((x^2)^2 \\cdot x)) ^ 2 \\cdot x) ^ 2 \\cdot x) ^ 2\n",
    "$$\n",
    "\n",
    "Количество операций:<br>\n",
    "\n",
    "n | двоичный метод | метод множителей\n",
    "--- | --- | ---\n",
    "80 | 7 | 10\n",
    "126 | 11 | 13\n",
    "\n",
    "Видно, что для чисел с небольшим количеством единиц в двоичной записи двоичный метод работает практически за одну операцию меньше, чем метод множителей (было проверено также для $ n = 98, 69 $). Для чисел с большим количество единиц в двоичной записи двоичный метод завершает свою работу примерно за столько же операций, за сколько завершается метод множителей. Скорее всего, метод множителей работает лучше на числах, для которых $p > 2$, а время работы двоичного метода близко к максимальному ($p$ близко к $2^k - 1$ по количеству единиц в двоичной записи)."
   ]
  },
  {
   "cell_type": "markdown",
   "metadata": {},
   "source": [
    "2. Реализовать алгоритм Брауэра для вычисления приближённых аддитивных цепочек для различных чисел при варьировании параметра k, сопоставить длины полученных аддитивных цепочек с минимальной аддитивной цепочкой для заданного числа. Сделать выводы."
   ]
  },
  {
   "cell_type": "code",
   "execution_count": null,
   "metadata": {
    "scrolled": false
   },
   "outputs": [],
   "source": [
    "def Brauer(n, k):\n",
    "    \n",
    "    #список элементов аддитивной цепочки\n",
    "    answer=[]\n",
    "    \n",
    "    #Переведём число в с.с. по основанию 2^k\n",
    "    lst = n.digits(2^k)\n",
    "    \n",
    "    #Добавляем первые элементы цепочки от 1 до 2^k-1\n",
    "    answer = [i for i in range(1,2^k)]\n",
    "    \n",
    "    #Добавим в цепочку старший разряд числа n в с.с. 2^k. Это наше последнее q.\n",
    "    answer.append(lst[-1])\n",
    "    \n",
    "    for i in range(len(lst)-2, -1, -1):\n",
    "        \n",
    "        #Запоминаем последний элемент текущей цепочки и \"наращиваем его\"\n",
    "        q=answer[-1]\n",
    "        \n",
    "        for j in range(1,k+1):\n",
    "            answer.append((2^j)*q)\n",
    "            \n",
    "        #Добавляем к последнему элементу остаток. Теперь в уонце цепи мы имеем q \"предыдущего уровня\".\n",
    "        answer.append(answer[-1] + lst[i])\n",
    "        \n",
    "    #Уберём дубликаты c помощью set() и отсортируем множество с помощью sorted()    \n",
    "    return sorted(set(answer))"
   ]
  },
  {
   "cell_type": "code",
   "execution_count": 4,
   "metadata": {},
   "outputs": [
    {
     "name": "stdout",
     "output_type": "stream",
     "text": [
      "[1, 2, 3, 4, 5, 6, 7, 8, 16, 22, 44, 88, 176, 352, 704, 1408, 1415]\n"
     ]
    }
   ],
   "source": [
    "print(Brauer(1415, 3))"
   ]
  },
  {
   "cell_type": "markdown",
   "metadata": {},
   "source": [
    "[1, 2, 3, 4, 5, 6, 7, 8, 16, 22, 44, 88, 176, 352, 704, 1408, 1415]"
   ]
  },
  {
   "cell_type": "markdown",
   "metadata": {},
   "source": [
    "3. Реализовать алгоритм дробления вектора индексов для нахождения минимальной звёздной цепочки для заданного числа. Протестировать алгоритм минимум для 5 значений n > 1000. Указать, сколько времени потребовалось на поиск цепочки и какая цепочка получилась. Сравнить с предыдущими методами, сделать выводы."
   ]
  },
  {
   "cell_type": "code",
   "execution_count": 13,
   "metadata": {},
   "outputs": [
    {
     "name": "stdout",
     "output_type": "stream",
     "text": [
      "completed in 197.89752819999921 seconds\n",
      "Vector [1, 1, 3, 4, 5, 4, 7, 8, 9, 10, 11, 8, 3]\n",
      "Chain [1, 2, 3, 6, 12, 24, 30, 60, 120, 240, 480, 960, 1020, 1023]\n"
     ]
    }
   ],
   "source": [
    "def hamming(n):\n",
    "    n = Integer(n)\n",
    "    return n.popcount()\n",
    "def generate_vec(m, ch_part):\n",
    "    vec1 = []\n",
    "    vec2 = []\n",
    "    for i in range(1, m + 1):\n",
    "        if i <= int(ch_part):# do not forgot to fix it\n",
    "            vec1.append(i)\n",
    "        else:\n",
    "            vec2.append(i)\n",
    "    return [vec1, vec2]\n",
    "def get_num(vec):\n",
    "    line = []\n",
    "    line.append(1)\n",
    "    for i in range(len(vec)):\n",
    "        line.append(line[i] + line[vec[i] - 1])\n",
    "    return line[len(line) - 1]\n",
    "# decremenation\n",
    "def dec(vec):\n",
    "    _len = len(vec)\n",
    "    for i in range(_len):\n",
    "        if vec[_len - i - 1] > 1:\n",
    "            vec[_len - i - 1] -= 1\n",
    "            for j in range(_len - i, _len):\n",
    "                vec[j] = j + 1\n",
    "            break\n",
    "def generate_part(_len, first):\n",
    "    part = [0]*_len\n",
    "    for i in range(_len):\n",
    "        part[i] = first + i\n",
    "    return part\n",
    "def get_chain(vec):\n",
    "    line = []\n",
    "    line.append(1)\n",
    "    for i in range(len(vec)):\n",
    "        line.append(line[i] + line[vec[i] - 1])\n",
    "    return line\n",
    "def empty(vec):\n",
    "    for i in vec:\n",
    "        if i > 1:\n",
    "            return False\n",
    "    return True\n",
    "def index(n):\n",
    "    l_min = math.ceil(math.log2(n)) #minimum length\n",
    "    l_max = int(math.log2(n) + hamming(n)) #maximum length\n",
    "    for m in range(l_min, l_max):\n",
    "        q = int(m/2)\n",
    "        vec = generate_vec(m, q)\n",
    "        #print(vec)\n",
    "        static_part = generate_part(q, 1)\n",
    "        \n",
    "        while true: #sorting out all static parts\n",
    "            dynamic_part = generate_part(m - q, q + 1)\n",
    "            bounds = [0]*2\n",
    "            a = get_num(static_part)\n",
    "            bounds[0] = a + m - q\n",
    "            bounds[1] = a * 2 ** (m - q)\n",
    "\n",
    "            \n",
    "            if n < bounds[0] or n > bounds[1]:\n",
    "                if empty(static_part) and len(static_part) > 1:\n",
    "                    break\n",
    "                dec(static_part)\n",
    "                continue\n",
    "                \n",
    "            while True: #sorting out all dynamic parts\n",
    "                if get_num(static_part + dynamic_part) == n:\n",
    "                    return static_part + dynamic_part\n",
    "                if empty(dynamic_part):\n",
    "                    break\n",
    "                dec(dynamic_part)\n",
    "                #print(static_part + dynamic_part)\n",
    "            if empty(static_part):\n",
    "                break\n",
    "            dec(static_part)   \n",
    "    print(\"Problem\")\n",
    "import timeit\n",
    "def calculate(N):\n",
    "    start_time = timeit.default_timer()\n",
    "    res = index(N)\n",
    "    print(\"completed in\", timeit.default_timer() - start_time, \"seconds\")\n",
    "    return res\n",
    "n = int(input()) #get a number to create our vector\n",
    "ind = calculate(n)\n",
    "print(\"Vector\", ind)\n",
    "print(\"Chain\", get_chain(ind))"
   ]
  },
  {
   "cell_type": "markdown",
   "metadata": {},
   "source": [
    "completed in 113.62643699999899 seconds\n",
    "Vector [1, 2, 2, 1, 4, 6, 7, 8, 9, 10, 11, 11, 5]\n",
    "Chain [1, 2, 4, 6, 7, 13, 26, 52, 104, 208, 416, 832, 1248, 1255]\n",
    "\n",
    "completed in 1.1451424000006227 seconds\n",
    "Vector [1, 2, 3, 4, 5, 2, 7, 8, 9, 10, 11, 7]\n",
    "Chain [1, 2, 4, 8, 16, 32, 34, 68, 136, 272, 544, 1088, 1122]\n",
    "\n",
    "completed in 2.1917799999973795 seconds\n",
    "Vector [1, 2, 3, 4, 4, 1, 7, 8, 9, 10, 11, 10]\n",
    "Chain [1, 2, 4, 8, 16, 24, 25, 50, 100, 200, 400, 800, 1000]\n",
    "\n",
    "completed in 339.5957324999981 seconds\n",
    "Vector [1, 2, 3, 4, 5, 6, 1, 8, 9, 10, 11, 8, 3, 2]\n",
    "Chain [1, 2, 4, 8, 16, 32, 64, 65, 130, 260, 520, 1040, 1105, 1109, 1111]"
   ]
  },
  {
   "cell_type": "markdown",
   "metadata": {},
   "source": [
    "### Задание 4"
   ]
  },
  {
   "cell_type": "markdown",
   "metadata": {},
   "source": [
    " Проверить гипотезу Шольца–Брауэра для всех натуральных чисел от 1 до 12 на алгоритме дробления вектора индексов. Результаты\n",
    "оформить в виде таблицы. Сделать выводы."
   ]
  },
  {
   "cell_type": "code",
   "execution_count": 21,
   "metadata": {},
   "outputs": [
    {
     "name": "stdout",
     "output_type": "stream",
     "text": [
      "n = 1 , l(n) = 1 , l(2^n - 1) = 1\n",
      "l(2^n - 1) <= n - 1 + l(n):  True\n",
      "\n",
      "n = 2 , l(n) = 2 , l(2^n - 1) = 3\n",
      "l(2^n - 1) <= n - 1 + l(n):  True\n",
      "\n",
      "n = 3 , l(n) = 3 , l(2^n - 1) = 5\n",
      "l(2^n - 1) <= n - 1 + l(n):  True\n",
      "\n",
      "n = 4 , l(n) = 3 , l(2^n - 1) = 6\n",
      "l(2^n - 1) <= n - 1 + l(n):  True\n",
      "\n",
      "n = 5 , l(n) = 4 , l(2^n - 1) = 8\n",
      "l(2^n - 1) <= n - 1 + l(n):  True\n",
      "\n",
      "n = 6 , l(n) = 4 , l(2^n - 1) = 9\n",
      "l(2^n - 1) <= n - 1 + l(n):  True\n",
      "\n",
      "n = 7 , l(n) = 5 , l(2^n - 1) = 11\n",
      "l(2^n - 1) <= n - 1 + l(n):  True\n",
      "\n",
      "n = 8 , l(n) = 4 , l(2^n - 1) = 11\n",
      "l(2^n - 1) <= n - 1 + l(n):  True\n",
      "\n",
      "n = 9 , l(n) = 5 , l(2^n - 1) = 13\n",
      "l(2^n - 1) <= n - 1 + l(n):  True\n",
      "\n",
      "n = 10 , l(n) = 5 , l(2^n - 1) = 14\n",
      "l(2^n - 1) <= n - 1 + l(n):  True\n",
      "\n"
     ]
    },
    {
     "ename": "KeyboardInterrupt",
     "evalue": "",
     "output_type": "error",
     "traceback": [
      "\u001b[0;31m---------------------------------------------------------------------------\u001b[0m",
      "\u001b[0;31mKeyboardInterrupt\u001b[0m                         Traceback (most recent call last)",
      "\u001b[0;32m<ipython-input-21-eeed059e34fc>\u001b[0m in \u001b[0;36m<module>\u001b[0;34m\u001b[0m\n\u001b[1;32m      1\u001b[0m \u001b[0;32mfor\u001b[0m \u001b[0mi\u001b[0m \u001b[0;32min\u001b[0m \u001b[0mrange\u001b[0m\u001b[0;34m(\u001b[0m\u001b[0mInteger\u001b[0m\u001b[0;34m(\u001b[0m\u001b[0;36m1\u001b[0m\u001b[0;34m)\u001b[0m\u001b[0;34m,\u001b[0m \u001b[0mInteger\u001b[0m\u001b[0;34m(\u001b[0m\u001b[0;36m13\u001b[0m\u001b[0;34m)\u001b[0m\u001b[0;34m)\u001b[0m\u001b[0;34m:\u001b[0m\u001b[0;34m\u001b[0m\u001b[0;34m\u001b[0m\u001b[0m\n\u001b[1;32m      2\u001b[0m     \u001b[0mk\u001b[0m \u001b[0;34m=\u001b[0m \u001b[0mindex\u001b[0m\u001b[0;34m(\u001b[0m\u001b[0mi\u001b[0m\u001b[0;34m)\u001b[0m\u001b[0;34m\u001b[0m\u001b[0;34m\u001b[0m\u001b[0m\n\u001b[0;32m----> 3\u001b[0;31m     \u001b[0m_k\u001b[0m \u001b[0;34m=\u001b[0m \u001b[0mindex\u001b[0m\u001b[0;34m(\u001b[0m\u001b[0mInteger\u001b[0m\u001b[0;34m(\u001b[0m\u001b[0;36m2\u001b[0m\u001b[0;34m)\u001b[0m\u001b[0;34m**\u001b[0m\u001b[0mi\u001b[0m \u001b[0;34m-\u001b[0m \u001b[0mInteger\u001b[0m\u001b[0;34m(\u001b[0m\u001b[0;36m1\u001b[0m\u001b[0;34m)\u001b[0m\u001b[0;34m)\u001b[0m\u001b[0;34m\u001b[0m\u001b[0;34m\u001b[0m\u001b[0m\n\u001b[0m\u001b[1;32m      4\u001b[0m     \u001b[0mchain\u001b[0m \u001b[0;34m=\u001b[0m \u001b[0mget_chain\u001b[0m\u001b[0;34m(\u001b[0m\u001b[0mk\u001b[0m\u001b[0;34m)\u001b[0m\u001b[0;34m\u001b[0m\u001b[0;34m\u001b[0m\u001b[0m\n\u001b[1;32m      5\u001b[0m     \u001b[0m_chain\u001b[0m \u001b[0;34m=\u001b[0m \u001b[0mget_chain\u001b[0m\u001b[0;34m(\u001b[0m\u001b[0m_k\u001b[0m\u001b[0;34m)\u001b[0m\u001b[0;34m\u001b[0m\u001b[0;34m\u001b[0m\u001b[0m\n",
      "\u001b[0;32m<ipython-input-13-2e6c8230b7a6>\u001b[0m in \u001b[0;36mindex\u001b[0;34m(n)\u001b[0m\n\u001b[1;32m     66\u001b[0m \u001b[0;34m\u001b[0m\u001b[0m\n\u001b[1;32m     67\u001b[0m             \u001b[0;32mwhile\u001b[0m \u001b[0;32mTrue\u001b[0m\u001b[0;34m:\u001b[0m \u001b[0;31m#sorting out all dynamic parts\u001b[0m\u001b[0;34m\u001b[0m\u001b[0;34m\u001b[0m\u001b[0m\n\u001b[0;32m---> 68\u001b[0;31m                 \u001b[0;32mif\u001b[0m \u001b[0mget_num\u001b[0m\u001b[0;34m(\u001b[0m\u001b[0mstatic_part\u001b[0m \u001b[0;34m+\u001b[0m \u001b[0mdynamic_part\u001b[0m\u001b[0;34m)\u001b[0m \u001b[0;34m==\u001b[0m \u001b[0mn\u001b[0m\u001b[0;34m:\u001b[0m\u001b[0;34m\u001b[0m\u001b[0;34m\u001b[0m\u001b[0m\n\u001b[0m\u001b[1;32m     69\u001b[0m                     \u001b[0;32mreturn\u001b[0m \u001b[0mstatic_part\u001b[0m \u001b[0;34m+\u001b[0m \u001b[0mdynamic_part\u001b[0m\u001b[0;34m\u001b[0m\u001b[0;34m\u001b[0m\u001b[0m\n\u001b[1;32m     70\u001b[0m                 \u001b[0;32mif\u001b[0m \u001b[0mempty\u001b[0m\u001b[0;34m(\u001b[0m\u001b[0mdynamic_part\u001b[0m\u001b[0;34m)\u001b[0m\u001b[0;34m:\u001b[0m\u001b[0;34m\u001b[0m\u001b[0;34m\u001b[0m\u001b[0m\n",
      "\u001b[0;32msrc/cysignals/signals.pyx\u001b[0m in \u001b[0;36mcysignals.signals.python_check_interrupt\u001b[0;34m()\u001b[0m\n",
      "\u001b[0;31mKeyboardInterrupt\u001b[0m: "
     ]
    }
   ],
   "source": [
    "for i in range(1, 13):\n",
    "    k = index(i)\n",
    "    _k = index(2**i - 1)\n",
    "    chain = get_chain(k)\n",
    "    _chain = get_chain(_k)\n",
    "    print(\"n =\", i, \", l(n) =\", len(chain), \", l(2^n - 1) =\", len(_chain))\n",
    "    print(\"l(2^n - 1) <= n - 1 + l(n): \", len(_chain) <= i - 1 + len(chain))\n",
    "    print()"
   ]
  },
  {
   "cell_type": "markdown",
   "metadata": {},
   "source": [
    "| n \t| l*(n) \t| l*(2^n-1) \t|\n",
    "|---\t|---\t|---\t|\n",
    "| 1 \t| 1 \t| 1 \t| \n",
    "| 2 \t| 2 \t| 3 \t|\n",
    "| 3 \t| 3 \t| 5 \t|\n",
    "| 4 \t| 3 \t| 6 \t|\n",
    "| 5 \t| 4 \t| 8 \t|\n",
    "| 6 \t| 4 \t| 9 \t|\n",
    "| 7 \t| 5 \t| 11 \t|\n",
    "| 8 \t| 4 \t| 11 \t|\n",
    "| 9 \t| 5 \t| 13 \t|\n",
    "| 10 \t| 5 \t| 14 \t|\n",
    "| 11 \t| 6 \t| 16 \t|\n",
    "| 12 \t| 5 \t| 16 \t|"
   ]
  },
  {
   "cell_type": "markdown",
   "metadata": {},
   "source": [
    "### Выводы\n",
    "В ходе выполнения данной практической работы были сформированы представления об аддитивных цепочках, были выработаны умения реализовывать и применять алгоритмы для нахождения минимальных аддитивных цепочек, был сформирован навык использования системы компьютерной математики для реализации таких алгоритмов.\n",
    "\n",
    "На практике была проверена гиптоеза Шольца-Брауэра, были проанализирован алгоритм Брауэра и алгоритм дробления векторов индексов.\n"
   ]
  }
 ],
 "metadata": {
  "kernelspec": {
   "display_name": "SageMath 9.0",
   "language": "sage",
   "name": "sagemath"
  },
  "language_info": {
   "codemirror_mode": {
    "name": "ipython",
    "version": 3
   },
   "file_extension": ".py",
   "mimetype": "text/x-python",
   "name": "sage",
   "nbconvert_exporter": "python",
   "pygments_lexer": "ipython3",
   "version": "3.8.10"
  }
 },
 "nbformat": 4,
 "nbformat_minor": 4
}
